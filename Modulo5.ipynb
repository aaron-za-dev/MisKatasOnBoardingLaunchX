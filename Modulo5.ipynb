{
 "cells": [
  {
   "cell_type": "markdown",
   "metadata": {},
   "source": [
    "# Ejercicio1 - Utilizar operadores aritméticos"
   ]
  },
  {
   "cell_type": "code",
   "execution_count": null,
   "metadata": {},
   "outputs": [],
   "source": [
    "earthDistanceFromSun = 149597870\n",
    "jupiterDistanceFromSun = 778547200\n",
    "\n",
    "print(\"Distance between the earth and jupiter are: \"+str(jupiterDistanceFromSun-earthDistanceFromSun)+\" Kilometers or \"+str(0.621 * (jupiterDistanceFromSun-earthDistanceFromSun))+\" Miles\")"
   ]
  },
  {
   "cell_type": "markdown",
   "metadata": {},
   "source": [
    "# Ejercicio 2: convierte cadenas en números y usa valores absolutos"
   ]
  },
  {
   "cell_type": "code",
   "execution_count": null,
   "metadata": {},
   "outputs": [],
   "source": [
    "firstDistance = int(input(\"Please enter the distance of first planet in KM\"))\n",
    "secondDistance = int(input(\"Please enter the distance of secpnd planet in KM\"))\n",
    "\n",
    "print(\"Distance between the two planets in KM are: \"+str(secondDistance-firstDistance))\n",
    "\n",
    "print(\"Distance between the two planets in Miles are: \"+str(abs(0.621 * (secondDistance-firstDistance))))"
   ]
  }
 ],
 "metadata": {
  "interpreter": {
   "hash": "9f92ffac0247a1e2f016e2800d35a7f8d8c535681b415a93589ff9ea98003523"
  },
  "kernelspec": {
   "display_name": "Python 3.10.2 64-bit",
   "language": "python",
   "name": "python3"
  },
  "language_info": {
   "codemirror_mode": {
    "name": "ipython",
    "version": 3
   },
   "file_extension": ".py",
   "mimetype": "text/x-python",
   "name": "python",
   "nbconvert_exporter": "python",
   "pygments_lexer": "ipython3",
   "version": "3.10.2"
  },
  "orig_nbformat": 4
 },
 "nbformat": 4,
 "nbformat_minor": 2
}
