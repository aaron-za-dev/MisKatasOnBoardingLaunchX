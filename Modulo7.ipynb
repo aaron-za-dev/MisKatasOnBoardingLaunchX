{
 "cells": [
  {
   "cell_type": "markdown",
   "metadata": {},
   "source": [
    "# Ejercicio1: Crear y usar listas de Python"
   ]
  },
  {
   "cell_type": "code",
   "execution_count": null,
   "metadata": {},
   "outputs": [],
   "source": [
    "planets = []\n",
    "\n",
    "newPlanet = \"\"\n",
    "\n",
    "while newPlanet != \"Done\":    \n",
    "    if newPlanet != \"\":\n",
    "        planets.append(newPlanet)\n",
    "    newPlanet = input(\"Please enter the name of planet to save\").capitalize()\n",
    "    print(str(planets))   \n"
   ]
  },
  {
   "cell_type": "markdown",
   "metadata": {},
   "source": [
    "# Ejercicio 2: Creación de un ciclo \"for\""
   ]
  },
  {
   "cell_type": "code",
   "execution_count": null,
   "metadata": {},
   "outputs": [],
   "source": [
    "planets = []\n",
    "\n",
    "newPlanet = \"\"\n",
    "\n",
    "while newPlanet != \"Done\":    \n",
    "    if newPlanet != \"\":\n",
    "        planets.append(newPlanet)\n",
    "    newPlanet = input(\"Please enter the name of planet to save\").capitalize()  \n",
    "\n",
    "for planet in planets:\n",
    "    print(planet)"
   ]
  }
 ],
 "metadata": {
  "interpreter": {
   "hash": "9f92ffac0247a1e2f016e2800d35a7f8d8c535681b415a93589ff9ea98003523"
  },
  "kernelspec": {
   "display_name": "Python 3.10.2 64-bit",
   "language": "python",
   "name": "python3"
  },
  "language_info": {
   "codemirror_mode": {
    "name": "ipython",
    "version": 3
   },
   "file_extension": ".py",
   "mimetype": "text/x-python",
   "name": "python",
   "nbconvert_exporter": "python",
   "pygments_lexer": "ipython3",
   "version": "3.10.2"
  },
  "orig_nbformat": 4
 },
 "nbformat": 4,
 "nbformat_minor": 2
}
