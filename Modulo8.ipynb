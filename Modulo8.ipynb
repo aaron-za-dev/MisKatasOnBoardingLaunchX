{
 "cells": [
  {
   "cell_type": "markdown",
   "metadata": {},
   "source": [
    "# Ejercicio 1: Creación de diccionarios de Python"
   ]
  },
  {
   "cell_type": "code",
   "execution_count": null,
   "metadata": {},
   "outputs": [],
   "source": [
    "mars = {\n",
    "    \"name\" : \"Mars\",\n",
    "    \"moons\" : 2\n",
    "}\n",
    "\n",
    "print(mars.get(\"name\")+\" has \"+str(mars.get(\"moons\"))+\" moons\")\n",
    "\n",
    "mars['circunference'] = {\n",
    "    'polar': 6752,\n",
    "    'equatorial': 6792\n",
    "}\n",
    "\n",
    "print(mars.get(\"name\")+\" has a polar circunference of \"+str(mars.get(\"circunference\").get(\"polar\"))+\" KM\")\n"
   ]
  },
  {
   "cell_type": "markdown",
   "metadata": {},
   "source": [
    "# Ejercicio 2: Programación dinámica con diccionarios"
   ]
  },
  {
   "cell_type": "code",
   "execution_count": null,
   "metadata": {},
   "outputs": [],
   "source": [
    "planetMoons = {\n",
    "    'mercury': 0,\n",
    "    'venus': 0,\n",
    "    'earth': 1,\n",
    "    'mars': 2,\n",
    "    'jupiter': 79,\n",
    "    'saturn': 82,\n",
    "    'uranus': 27,\n",
    "    'neptune': 14,\n",
    "    'pluto': 5,\n",
    "    'haumea': 2,\n",
    "    'makemake': 1,\n",
    "    'eris': 1\n",
    "}\n",
    "\n",
    "moonsPerPlanet = planetMoons.values()\n",
    "\n",
    "totalPlanets = len(planetMoons.keys())\n",
    "\n",
    "totalMoons = 0\n",
    "\n",
    "for moon in moonsPerPlanet:\n",
    "    totalMoons += moon\n",
    "\n",
    "print(\"Total moons in solar system are: \"+str(totalMoons)+\" average: \"+str(totalMoons/totalPlanets))\n",
    "\n"
   ]
  }
 ],
 "metadata": {
  "interpreter": {
   "hash": "9f92ffac0247a1e2f016e2800d35a7f8d8c535681b415a93589ff9ea98003523"
  },
  "kernelspec": {
   "display_name": "Python 3.10.2 64-bit",
   "language": "python",
   "name": "python3"
  },
  "language_info": {
   "codemirror_mode": {
    "name": "ipython",
    "version": 3
   },
   "file_extension": ".py",
   "mimetype": "text/x-python",
   "name": "python",
   "nbconvert_exporter": "python",
   "pygments_lexer": "ipython3",
   "version": "3.10.2"
  },
  "orig_nbformat": 4
 },
 "nbformat": 4,
 "nbformat_minor": 2
}
