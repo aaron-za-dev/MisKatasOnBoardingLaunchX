{
 "cells": [
  {
   "cell_type": "markdown",
   "metadata": {},
   "source": [
    "# Ejercicio 1: Trabajar con argumentos en funciones"
   ]
  },
  {
   "cell_type": "code",
   "execution_count": null,
   "metadata": {},
   "outputs": [],
   "source": [
    "def generateReport (firstTank, secondTank, thirdTank):\n",
    "    average = (firstTank + secondTank + thirdTank) / 3\n",
    "    return \"Total average: \"+str(average) + \"% First Tank: \"+str(firstTank)+\"% Second Tank: \"+str(secondTank)+\"% Third Tank: \"+str(thirdTank)+\"%\"\n",
    "\n",
    "\n",
    "print(generateReport(100,100,100))\n"
   ]
  },
  {
   "cell_type": "code",
   "execution_count": null,
   "metadata": {},
   "outputs": [],
   "source": [
    "def generateReport (firstTank, secondTank, thirdTank):    \n",
    "    return \"Total average: \"+str(calculateAverage(firstTank, secondTank, thirdTank)) + \"% First Tank: \"+str(firstTank)+\"% Second Tank: \"+str(secondTank)+\"% Third Tank: \"+str(thirdTank)+\"%\"\n",
    "\n",
    "def calculateAverage(firstTank, secondTank, thirdTank):\n",
    "    return (firstTank + secondTank + thirdTank) / 3\n",
    "\n",
    "print(generateReport(100,100,100))\n"
   ]
  },
  {
   "cell_type": "markdown",
   "metadata": {},
   "source": [
    "# Ejercicio 2: Trabajo con argumentos de palabra clave"
   ]
  },
  {
   "cell_type": "code",
   "execution_count": null,
   "metadata": {},
   "outputs": [],
   "source": [
    "def rocketReport(prelaunchTime, fligthTime, destination, externalTank, mainTank):\n",
    "    return \"Mission to: \"+destination+\" Travel time: \"+str(prelaunchTime+fligthTime)+\" minutes Fuel available: \"+str(externalTank+mainTank)+\" L\"\n",
    "\n",
    "print(rocketReport(50, 70, \"Mars\", 1000, 1300))\n"
   ]
  },
  {
   "cell_type": "code",
   "execution_count": null,
   "metadata": {},
   "outputs": [],
   "source": [
    "def rocketReport(destination, *time, **tanks):\n",
    "    return \"Mission to: \"+destination+\" Travel time: \"+str(sum(time))+\" minutes Fuel available: \"+str(sum(tanks.values()))+\" L\"\n",
    "\n",
    "print(rocketReport(\"Mars\", 10, 15, 51, main=1000, external=1300))\n"
   ]
  }
 ],
 "metadata": {
  "interpreter": {
   "hash": "9f92ffac0247a1e2f016e2800d35a7f8d8c535681b415a93589ff9ea98003523"
  },
  "kernelspec": {
   "display_name": "Python 3.10.2 64-bit",
   "language": "python",
   "name": "python3"
  },
  "language_info": {
   "codemirror_mode": {
    "name": "ipython",
    "version": 3
   },
   "file_extension": ".py",
   "mimetype": "text/x-python",
   "name": "python",
   "nbconvert_exporter": "python",
   "pygments_lexer": "ipython3",
   "version": "3.10.2"
  },
  "orig_nbformat": 4
 },
 "nbformat": 4,
 "nbformat_minor": 2
}
