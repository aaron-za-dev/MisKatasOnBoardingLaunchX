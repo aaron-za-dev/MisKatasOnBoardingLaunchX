{
 "cells": [
  {
   "cell_type": "markdown",
   "metadata": {},
   "source": [
    "# Ejercicio1: Crear y usar listas de Python"
   ]
  },
  {
   "cell_type": "code",
   "execution_count": null,
   "metadata": {},
   "outputs": [],
   "source": [
    "planets = [\"Mercury\", \"Venus\", \"Earth\", \"Mars\", \"Jupiter\", \"Saturn\", \"Uranus\", \"Neptune\"]\n",
    "\n",
    "planetsCount = len(planets)\n",
    "\n",
    "print(\"Total of planets: \"+str(planetsCount)+\" \"+str(planets))"
   ]
  },
  {
   "cell_type": "code",
   "execution_count": null,
   "metadata": {},
   "outputs": [],
   "source": [
    "planets = [\"Mercury\", \"Venus\", \"Earth\", \"Mars\", \"Jupiter\", \"Saturn\", \"Uranus\", \"Neptune\"]\n",
    "\n",
    "planets.append(\"Pluto\")\n",
    "\n",
    "planetsCount = len(planets)\n",
    "\n",
    "print(\"The last planet is: \"+str(planets[planetsCount-1]))"
   ]
  },
  {
   "cell_type": "markdown",
   "metadata": {},
   "source": [
    "# Ejercicio 2: Trabajando con datos de una lista"
   ]
  },
  {
   "cell_type": "code",
   "execution_count": null,
   "metadata": {},
   "outputs": [],
   "source": [
    "planets = [\"Mercury\", \"Venus\", \"Earth\", \"Mars\", \"Jupiter\", \"Saturn\", \"Uranus\", \"Neptune\"]\n",
    "\n",
    "selectedPlanet = input(\"Enter the name of planet\").capitalize()\n",
    "\n",
    "if selectedPlanet in planets:\n",
    "\n",
    "    selectedPlanetIndex = planets.index(selectedPlanet)\n",
    "\n",
    "    if selectedPlanet == \"Mercury\":\n",
    "        print(selectedPlanet + \" is the closest planet to sun.\"+\" Farthest planets from sun: \"+str(planets[selectedPlanetIndex+1:]))\n",
    "    elif selectedPlanet == \"Neptune\":\n",
    "        print(selectedPlanet + \" is the farthest planet from sun.\"+\" Closest planets to sun: \"+str(planets[0:selectedPlanetIndex]))\n",
    "    else:\n",
    "        print(\"Closest planets to sun: \"+str(planets[0:selectedPlanetIndex])+\" Farthest planets from sun: \"+str(planets[selectedPlanetIndex+1:]))\n",
    "\n",
    "else:\n",
    "    print(\"Please enter a valid planet name like \"+str(planets))\n",
    "\n"
   ]
  }
 ],
 "metadata": {
  "interpreter": {
   "hash": "9f92ffac0247a1e2f016e2800d35a7f8d8c535681b415a93589ff9ea98003523"
  },
  "kernelspec": {
   "display_name": "Python 3.10.2 64-bit",
   "language": "python",
   "name": "python3"
  },
  "language_info": {
   "codemirror_mode": {
    "name": "ipython",
    "version": 3
   },
   "file_extension": ".py",
   "mimetype": "text/x-python",
   "name": "python",
   "nbconvert_exporter": "python",
   "pygments_lexer": "ipython3",
   "version": "3.10.2"
  },
  "orig_nbformat": 4
 },
 "nbformat": 4,
 "nbformat_minor": 2
}
