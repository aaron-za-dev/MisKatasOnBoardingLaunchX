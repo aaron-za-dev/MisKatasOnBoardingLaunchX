{
 "cells": [
  {
   "cell_type": "markdown",
   "metadata": {},
   "source": [
    "Ejercicio 1"
   ]
  },
  {
   "cell_type": "markdown",
   "metadata": {},
   "source": [
    "# Escribir declaraciones if, else, y elif"
   ]
  },
  {
   "cell_type": "markdown",
   "metadata": {},
   "source": [
    "Un asteroide se acerca, y viaja a una velocidad de 49 km/s."
   ]
  },
  {
   "cell_type": "code",
   "execution_count": null,
   "metadata": {},
   "outputs": [],
   "source": [
    "asteroidSpeed = 49\n",
    "if asteroidSpeed >= 25:\n",
    "    print(\"Cuidado! Un asteroide se acerca a la tierra...\")\n",
    "else:\n",
    "    print(\"Ninguna asteroide se encuentra cerce de la tierra :D\")"
   ]
  },
  {
   "cell_type": "markdown",
   "metadata": {},
   "source": [
    "Estrella Fugaz"
   ]
  },
  {
   "cell_type": "code",
   "execution_count": null,
   "metadata": {},
   "outputs": [],
   "source": [
    "asteroidSpeed = 19\n",
    "if asteroidSpeed >= 20:\n",
    "    print(\"Mira, una estrella fugaz! :D\")\n",
    "else:\n",
    "    print(\"Sin novedades :)\")"
   ]
  },
  {
   "cell_type": "markdown",
   "metadata": {},
   "source": [
    "Ejercicio 2"
   ]
  },
  {
   "cell_type": "markdown",
   "metadata": {},
   "source": [
    "# Ejercicio: Uso de operadores and y or"
   ]
  },
  {
   "cell_type": "markdown",
   "metadata": {},
   "source": [
    "Peligro o no?"
   ]
  },
  {
   "cell_type": "code",
   "execution_count": null,
   "metadata": {},
   "outputs": [],
   "source": [
    "asteroidSpeed = 25\n",
    "asteroidSize = 40\n",
    "if asteroidSpeed > 25 and asteroidSize > 25:\n",
    "    print(\"La tierra esta el peligro! Asteroide se acerca :O\")\n",
    "elif asteroidSpeed >= 20:\n",
    "    print(\"Mira, una estrella fugaz! :D\")\n",
    "elif asteroidSize < 25:\n",
    "    print(\"Sin novedades :)\")\n",
    "else:\n",
    "    print(\"Sin novedades :)\")"
   ]
  }
 ],
 "metadata": {
  "interpreter": {
   "hash": "9f92ffac0247a1e2f016e2800d35a7f8d8c535681b415a93589ff9ea98003523"
  },
  "kernelspec": {
   "display_name": "Python 3.10.2 64-bit",
   "language": "python",
   "name": "python3"
  },
  "language_info": {
   "codemirror_mode": {
    "name": "ipython",
    "version": 3
   },
   "file_extension": ".py",
   "mimetype": "text/x-python",
   "name": "python",
   "nbconvert_exporter": "python",
   "pygments_lexer": "ipython3",
   "version": "3.10.2"
  },
  "orig_nbformat": 4
 },
 "nbformat": 4,
 "nbformat_minor": 2
}
